{
 "cells": [
  {
   "cell_type": "code",
   "execution_count": 1,
   "metadata": {},
   "outputs": [],
   "source": [
    "import cv2\n",
    "import numpy as np"
   ]
  },
  {
   "cell_type": "code",
   "execution_count": 2,
   "metadata": {},
   "outputs": [],
   "source": [
    "# Read the image\n",
    "img = cv2.imread('chess images/IMG_20211010_151046.jpg')"
   ]
  },
  {
   "cell_type": "code",
   "execution_count": 3,
   "metadata": {},
   "outputs": [
    {
     "data": {
      "text/plain": [
       "-1"
      ]
     },
     "execution_count": 3,
     "metadata": {},
     "output_type": "execute_result"
    }
   ],
   "source": [
    "# Display the image\n",
    "cv2.imshow('Original', img)\n",
    "cv2.waitKey(0)"
   ]
  },
  {
   "cell_type": "code",
   "execution_count": 5,
   "metadata": {},
   "outputs": [
    {
     "name": "stdout",
     "output_type": "stream",
     "text": [
      "Original Dimensions:  (4608, 3456, 3)\n"
     ]
    }
   ],
   "source": [
    "print('Original Dimensions: ', img.shape)"
   ]
  },
  {
   "cell_type": "code",
   "execution_count": 6,
   "metadata": {},
   "outputs": [
    {
     "name": "stdout",
     "output_type": "stream",
     "text": [
      "Resized Dimensions:  (460, 345, 3)\n"
     ]
    }
   ],
   "source": [
    "# Resize image\n",
    "scale_percent = 10\n",
    "width = int(img.shape[1] * scale_percent / 100)\n",
    "height = int(img.shape[0] * scale_percent / 100)\n",
    "dim = (width, height)\n",
    "\n",
    "sml_img = cv2.resize(img, dim)\n",
    "print('Resized Dimensions: ', sml_img.shape)"
   ]
  },
  {
   "cell_type": "code",
   "execution_count": 7,
   "metadata": {},
   "outputs": [
    {
     "data": {
      "text/plain": [
       "-1"
      ]
     },
     "execution_count": 7,
     "metadata": {},
     "output_type": "execute_result"
    }
   ],
   "source": [
    "cv2.imshow('Resized', sml_img)\n",
    "cv2.waitKey(0)"
   ]
  },
  {
   "cell_type": "code",
   "execution_count": 8,
   "metadata": {},
   "outputs": [],
   "source": [
    "# Convert to grayscale\n",
    "img_gray = cv2.cvtColor(sml_img, cv2.COLOR_BGR2GRAY)"
   ]
  },
  {
   "cell_type": "code",
   "execution_count": 10,
   "metadata": {},
   "outputs": [],
   "source": [
    "# Blur image for better edge detection\n",
    "img_blur = cv2.GaussianBlur(img_gray, (3,3), 0)"
   ]
  },
  {
   "cell_type": "code",
   "execution_count": 11,
   "id": "a69806c7",
   "metadata": {},
   "outputs": [
    {
     "data": {
      "text/plain": [
       "-1"
      ]
     },
     "execution_count": 11,
     "metadata": {},
     "output_type": "execute_result"
    }
   ],
   "source": [
    "# Display the image\n",
    "cv2.imshow('blurred', img_blur)\n",
    "cv2.waitKey(0)"
   ]
  },
  {
   "cell_type": "code",
   "execution_count": 12,
   "metadata": {},
   "outputs": [],
   "source": [
    "# Sobel Edge Detection\n",
    "sobelx = cv2.Sobel(src=img_blur, ddepth=cv2.CV_64F, dx=1, dy=0, ksize=5) # X axis\n",
    "sobely = cv2.Sobel(src=img_blur, ddepth=cv2.CV_64F, dx=0, dy=1, ksize=5) # Y axis\n",
    "sobelxy = cv2.Sobel(src=img_blur, ddepth=cv2.CV_64F, dx=1, dy=1, ksize=5) # combined"
   ]
  },
  {
   "cell_type": "code",
   "execution_count": 13,
   "metadata": {},
   "outputs": [
    {
     "data": {
      "text/plain": [
       "-1"
      ]
     },
     "execution_count": 13,
     "metadata": {},
     "output_type": "execute_result"
    }
   ],
   "source": [
    "cv2.imshow('Sobel X', sobelx)\n",
    "cv2.waitKey(0)\n",
    "cv2.imshow('Sobel Y', sobely)\n",
    "cv2.waitKey(0)\n",
    "cv2.imshow('Sobel X Y using Sobel() function', sobelxy)\n",
    "cv2.waitKey(0)"
   ]
  },
  {
   "cell_type": "code",
   "execution_count": 14,
   "metadata": {},
   "outputs": [],
   "source": [
    "# Canny Edge Detection \n",
    "edges = cv2.Canny(image=img_blur, threshold1=100, threshold2=200)"
   ]
  },
  {
   "cell_type": "code",
   "execution_count": 15,
   "metadata": {},
   "outputs": [
    {
     "data": {
      "text/plain": [
       "-1"
      ]
     },
     "execution_count": 15,
     "metadata": {},
     "output_type": "execute_result"
    }
   ],
   "source": [
    "cv2.imshow('Canny Edge Detection', edges)\n",
    "cv2.waitKey(0)"
   ]
  },
  {
   "cell_type": "code",
   "execution_count": 16,
   "metadata": {},
   "outputs": [],
   "source": [
    "def process_img(original_image):\n",
    "    processed_img = cv2.cvtColor(original_image, cv2.COLOR_BGR2GRAY)\n",
    "    processed_img = cv2.Canny(processed_img, threshold1=150, threshold2=250)\n",
    "    return processed_img"
   ]
  },
  {
   "cell_type": "code",
   "execution_count": 17,
   "metadata": {},
   "outputs": [],
   "source": [
    "img_new = process_img(sml_img)"
   ]
  },
  {
   "cell_type": "code",
   "execution_count": 18,
   "metadata": {},
   "outputs": [
    {
     "data": {
      "text/plain": [
       "10"
      ]
     },
     "execution_count": 18,
     "metadata": {},
     "output_type": "execute_result"
    }
   ],
   "source": [
    "cv2.imshow('Canny Edge Detection', img_new)\n",
    "cv2.waitKey(0)"
   ]
  },
  {
   "cell_type": "code",
   "execution_count": 15,
   "metadata": {},
   "outputs": [],
   "source": [
    "# threshold to get just the board\n",
    "retval, thresh_gray = cv2.threshold(img_gray, thresh=150, maxval=255, type=cv2.THRESH_BINARY)"
   ]
  },
  {
   "cell_type": "code",
   "execution_count": 8,
   "metadata": {},
   "outputs": [],
   "source": [
    "# find where the board is and make a cropped region\n",
    "points = np.argwhere(thresh_gray==255) # find where the white pixels are\n",
    "points = np.fliplr(points) # store them in x,y coordinates instead of row,col indices\n",
    "#print(points[3070:3170])\n",
    "white_points = points.tolist()"
   ]
  },
  {
   "cell_type": "code",
   "execution_count": 8,
   "metadata": {},
   "outputs": [],
   "source": [
    "# find where the board is and make a cropped region\n",
    "points1 = np.argwhere(img_new==255) # find where the white pixels are\n",
    "points1 = np.fliplr(points1) # store them in x,y coordinates instead of row,col indices\n",
    "#print(points[3070:3170])\n",
    "white_points1 = points1.tolist()"
   ]
  },
  {
   "cell_type": "code",
   "execution_count": 40,
   "metadata": {},
   "outputs": [
    {
     "data": {
      "text/plain": [
       "True"
      ]
     },
     "execution_count": 40,
     "metadata": {},
     "output_type": "execute_result"
    }
   ],
   "source": [
    "[472, 159] in white_points"
   ]
  },
  {
   "cell_type": "code",
   "execution_count": 13,
   "metadata": {
    "scrolled": true
   },
   "outputs": [
    {
     "name": "stdout",
     "output_type": "stream",
     "text": [
      "[242, 30, 71, 30]\n",
      "[178, 21, 74, 21]\n",
      "[236, 36, 74, 36]\n",
      "[98, 28, 75, 28]\n",
      "[163, 36, 75, 36]\n",
      "[17, 36, 76, 36]\n",
      "[90, 36, 76, 36]\n",
      "[162, 37, 76, 37]\n",
      "[272, 38, 104, 38]\n",
      "[213, 23, 109, 23]\n",
      "[127, 36, 110, 36]\n",
      "[199, 37, 110, 37]\n",
      "[55, 35, 111, 35]\n",
      "[126, 37, 111, 37]\n",
      "[53, 37, 112, 37]\n",
      "[236, 38, 141, 38]\n",
      "[163, 37, 146, 37]\n",
      "[89, 37, 147, 37]\n",
      "[17, 36, 148, 36]\n",
      "[16, 37, 149, 37]\n",
      "[274, 38, 177, 38]\n",
      "[219, 19, 182, 19]\n",
      "[126, 37, 183, 37]\n",
      "[200, 38, 183, 38]\n",
      "[52, 37, 184, 37]\n",
      "[238, 37, 218, 37]\n",
      "[188, 12, 219, 12]\n",
      "[15, 37, 220, 37]\n",
      "[89, 37, 220, 37]\n",
      "[88, 38, 239, 38]\n",
      "[324, 6, 242, 6]\n",
      "[163, 12, 243, 12]\n",
      "[323, 5, 245, 5]\n",
      "[330, 13, 245, 13]\n",
      "[196, 42, 250, 42]\n",
      "[275, 39, 250, 39]\n",
      "[325, 8, 250, 8]\n",
      "[324, 21, 251, 21]\n",
      "[323, 12, 255, 12]\n",
      "[52, 36, 256, 36]\n",
      "[126, 37, 256, 37]\n",
      "[51, 37, 257, 37]\n",
      "[163, 38, 288, 38]\n",
      "[238, 39, 288, 39]\n",
      "[14, 37, 294, 37]\n",
      "[88, 38, 294, 38]\n",
      "[333, 9, 301, 9]\n",
      "[332, 9, 302, 9]\n",
      "[330, 11, 304, 11]\n",
      "[13, 38, 318, 38]\n",
      "[277, 40, 326, 40]\n",
      "[201, 39, 327, 39]\n",
      "[51, 37, 332, 37]\n",
      "[126, 38, 332, 38]\n",
      "[6, 11, 388, 11]\n",
      "[0, 20, 389, 20]\n",
      "[[[242, 71], [272, 71], [272, 109], [242, 109]], [[178, 74], [199, 74], [199, 110], [178, 110]], [[236, 74], [272, 74], [272, 109], [236, 109]], [[98, 75], [126, 75], [126, 111], [98, 111]], [[163, 75], [199, 75], [199, 110], [163, 110]], [[17, 76], [53, 76], [53, 112], [17, 112]], [[90, 76], [126, 76], [126, 111], [90, 111]], [[162, 76], [199, 76], [199, 110], [162, 110]], [[272, 104], [310, 104], [310, 145], [272, 145]], [[213, 109], [236, 109], [236, 146], [213, 146]], [[127, 110], [163, 110], [163, 146], [127, 146]], [[199, 110], [236, 110], [236, 146], [199, 146]], [[55, 111], [90, 111], [90, 147], [55, 147]], [[126, 111], [163, 111], [163, 146], [126, 146]], [[53, 112], [90, 112], [90, 147], [53, 147]], [[236, 141], [274, 141], [274, 182], [236, 182]], [[163, 146], [200, 146], [200, 183], [163, 183]], [[89, 147], [126, 147], [126, 183], [89, 183]], [[17, 148], [53, 148], [53, 184], [17, 184]], [[16, 149], [53, 149], [53, 184], [16, 184]], [[274, 177], [312, 177], [312, 218], [274, 218]], [[219, 182], [238, 182], [238, 218], [219, 218]], [[126, 183], [163, 183], [163, 219], [126, 219]], [[200, 183], [238, 183], [238, 218], [200, 218]], [[52, 184], [89, 184], [89, 219], [52, 219]], [[238, 218], [275, 218], [275, 255], [238, 255]], [[188, 219], [200, 219], [200, 230], [188, 230]], [[15, 220], [52, 220], [52, 256], [15, 256]], [[89, 220], [126, 220], [126, 256], [89, 256]], [[88, 239], [126, 239], [126, 256], [88, 256]], [[324, 242], [330, 242], [330, 248], [324, 248]], [[163, 243], [175, 243], [175, 255], [163, 255]], [[323, 245], [328, 245], [328, 250], [323, 250]], [[330, 245], [343, 245], [343, 254], [330, 254]], [[196, 250], [238, 250], [238, 293], [196, 293]], [[275, 250], [314, 250], [314, 293], [275, 293]], [[325, 250], [333, 250], [333, 301], [325, 301]], [[324, 251], [345, 251], [345, 301], [324, 301]], [[323, 255], [335, 255], [335, 301], [323, 301]], [[52, 256], [88, 256], [88, 294], [52, 294]], [[126, 256], [163, 256], [163, 293], [126, 293]], [[51, 257], [88, 257], [88, 294], [51, 294]], [[163, 288], [201, 288], [201, 332], [163, 332]], [[238, 288], [277, 288], [277, 332], [238, 332]], [[14, 294], [51, 294], [51, 332], [14, 332]], [[88, 294], [126, 294], [126, 332], [88, 332]], [[333, 301], [342, 301], [342, 310], [333, 310]], [[332, 302], [341, 302], [341, 317], [332, 317]], [[330, 304], [341, 304], [341, 310], [330, 310]], [[13, 318], [51, 318], [51, 332], [13, 332]], [[277, 326], [317, 326], [317, 370], [277, 370]], [[201, 327], [240, 327], [240, 370], [201, 370]], [[51, 332], [88, 332], [88, 370], [51, 370]], [[126, 332], [164, 332], [164, 370], [126, 370]], [[6, 388], [17, 388], [17, 401], [6, 401]], [[0, 389], [20, 389], [20, 402], [0, 402]]]\n",
      "56\n"
     ]
    }
   ],
   "source": [
    "white_squares = []\n",
    "visited = []\n",
    "white_cropped = []\n",
    "buffer = 5\n",
    "for x,y in white_points:\n",
    "    if [x,y] not in visited and [x+buffer, y+10] in white_points and [x+10, y+buffer] in white_points:\n",
    "        i = 0\n",
    "        j = 0\n",
    "        #print(\"white square starting at: \", x, y)\n",
    "        \n",
    "        while [x+buffer+i, y+buffer] in white_points:\n",
    "            i += 1\n",
    "            visited.append([x+i,y])\n",
    "        \n",
    "        while [x+buffer, y+j+buffer] in white_points:\n",
    "            j += 1\n",
    "            visited.append([x,y+j])\n",
    "            \n",
    "        for m in range(i+buffer):\n",
    "            for n in range(j+buffer):\n",
    "                visited.append([x+m,y+n])\n",
    "                \n",
    "        coords = [[x,y],\n",
    "                  [x+i+buffer,y],\n",
    "                  [x+i+buffer,y+j+buffer],\n",
    "                  [x,y+j+buffer]]\n",
    "        #print(\"white square at: \", coords)\n",
    "        white_squares.append(coords)\n",
    "        white_cropped.append([x, i+buffer, y, j+buffer])\n",
    "        print([x,i+buffer,y,i+buffer])\n",
    "    \n",
    "    visited.append([x,y])\n",
    "    \n",
    "print(white_squares)\n",
    "print(len(white_squares))"
   ]
  },
  {
   "cell_type": "code",
   "execution_count": 9,
   "metadata": {},
   "outputs": [
    {
     "name": "stdout",
     "output_type": "stream",
     "text": [
      "3384\n"
     ]
    }
   ],
   "source": [
    "# white_squares = []\n",
    "# visited = []\n",
    "# white_cropped = []\n",
    "\n",
    "# work out line segments\n",
    "buffer_y = 6\n",
    "buffer_x = 6\n",
    "\n",
    "current_y = 148\n",
    "\n",
    "for x,y in white_points:\n",
    "    if \n",
    "    \n",
    "    \n",
    "\n",
    "# work out intersections of those line segments\n",
    "\n",
    "\n",
    "\n",
    "intersections = []\n",
    "buffer = 5\n",
    "for x,y in white_points1:\n",
    "    # find intersections, therefore, finding the corners of each of the squares\n",
    "    if [x, y+10] in white_points1:\n",
    "        # intersection found\n",
    "        intersections.append([x,y])\n",
    "    \n",
    "#print(intersections)\n",
    "print(len(intersections))"
   ]
  },
  {
   "cell_type": "code",
   "execution_count": 11,
   "metadata": {},
   "outputs": [
    {
     "name": "stdout",
     "output_type": "stream",
     "text": [
      "Press x to exit loop\n",
      "\n",
      "Press x to exit loop\n",
      "\n",
      "Press x to exit loop\n",
      "\n",
      "Press x to exit loop\n",
      "\n",
      "Press x to exit loop\n",
      "\n",
      "Press x to exit loop\n",
      "\n",
      "Press x to exit loop\n",
      "\n",
      "Press x to exit loop\n",
      "\n",
      "Press x to exit loop\n",
      "\n",
      "Press x to exit loop\n",
      "\n",
      "Press x to exit loop\n",
      "\n",
      "Press x to exit loop\n",
      "\n",
      "Press x to exit loop\n",
      "\n",
      "Press x to exit loop\n",
      "\n",
      "Press x to exit loop\n",
      "\n",
      "Press x to exit loop\n",
      "\n",
      "Press x to exit loop\n",
      "\n",
      "Press x to exit loop\n",
      "\n",
      "Press x to exit loop\n",
      "\n",
      "Press x to exit loop\n",
      "\n",
      "Press x to exit loop\n",
      "\n",
      "Press x to exit loop\n",
      "\n",
      "Press x to exit loop\n",
      "\n",
      "Press x to exit loop\n",
      "\n",
      "Press x to exit loop\n",
      "\n",
      "Press x to exit loop\n",
      "\n",
      "Press x to exit loop\n",
      "\n",
      "Press x to exit loop\n",
      "\n",
      "Press x to exit loop\n",
      "\n",
      "Press x to exit loop\n",
      "\n",
      "Press x to exit loop\n",
      "\n",
      "Press x to exit loop\n",
      "\n",
      "Press x to exit loop\n",
      "\n",
      "Press x to exit loop\n",
      "\n",
      "Press x to exit loop\n",
      "\n",
      "Press x to exit loop\n",
      "\n",
      "Press x to exit loop\n",
      "\n",
      "Press x to exit loop\n",
      "\n",
      "Press x to exit loop\n",
      "\n",
      "Press x to exit loop\n",
      "x\n"
     ]
    },
    {
     "ename": "KeyboardInterrupt",
     "evalue": "",
     "output_type": "error",
     "traceback": [
      "\u001b[1;31m---------------------------------------------------------------------------\u001b[0m",
      "\u001b[1;31mKeyboardInterrupt\u001b[0m                         Traceback (most recent call last)",
      "\u001b[1;32mc:\\users\\samra\\appdata\\local\\programs\\python\\python37\\lib\\site-packages\\ipykernel\\kernelbase.py\u001b[0m in \u001b[0;36m_input_request\u001b[1;34m(self, prompt, ident, parent, password)\u001b[0m\n\u001b[0;32m    877\u001b[0m             \u001b[1;32mtry\u001b[0m\u001b[1;33m:\u001b[0m\u001b[1;33m\u001b[0m\u001b[0m\n\u001b[1;32m--> 878\u001b[1;33m                 \u001b[0mident\u001b[0m\u001b[1;33m,\u001b[0m \u001b[0mreply\u001b[0m \u001b[1;33m=\u001b[0m \u001b[0mself\u001b[0m\u001b[1;33m.\u001b[0m\u001b[0msession\u001b[0m\u001b[1;33m.\u001b[0m\u001b[0mrecv\u001b[0m\u001b[1;33m(\u001b[0m\u001b[0mself\u001b[0m\u001b[1;33m.\u001b[0m\u001b[0mstdin_socket\u001b[0m\u001b[1;33m,\u001b[0m \u001b[1;36m0\u001b[0m\u001b[1;33m)\u001b[0m\u001b[1;33m\u001b[0m\u001b[0m\n\u001b[0m\u001b[0;32m    879\u001b[0m             \u001b[1;32mexcept\u001b[0m \u001b[0mException\u001b[0m\u001b[1;33m:\u001b[0m\u001b[1;33m\u001b[0m\u001b[0m\n",
      "\u001b[1;32mc:\\users\\samra\\appdata\\local\\programs\\python\\python37\\lib\\site-packages\\jupyter_client\\session.py\u001b[0m in \u001b[0;36mrecv\u001b[1;34m(self, socket, mode, content, copy)\u001b[0m\n\u001b[0;32m    802\u001b[0m         \u001b[1;32mtry\u001b[0m\u001b[1;33m:\u001b[0m\u001b[1;33m\u001b[0m\u001b[0m\n\u001b[1;32m--> 803\u001b[1;33m             \u001b[0mmsg_list\u001b[0m \u001b[1;33m=\u001b[0m \u001b[0msocket\u001b[0m\u001b[1;33m.\u001b[0m\u001b[0mrecv_multipart\u001b[0m\u001b[1;33m(\u001b[0m\u001b[0mmode\u001b[0m\u001b[1;33m,\u001b[0m \u001b[0mcopy\u001b[0m\u001b[1;33m=\u001b[0m\u001b[0mcopy\u001b[0m\u001b[1;33m)\u001b[0m\u001b[1;33m\u001b[0m\u001b[0m\n\u001b[0m\u001b[0;32m    804\u001b[0m         \u001b[1;32mexcept\u001b[0m \u001b[0mzmq\u001b[0m\u001b[1;33m.\u001b[0m\u001b[0mZMQError\u001b[0m \u001b[1;32mas\u001b[0m \u001b[0me\u001b[0m\u001b[1;33m:\u001b[0m\u001b[1;33m\u001b[0m\u001b[0m\n",
      "\u001b[1;32mc:\\users\\samra\\appdata\\local\\programs\\python\\python37\\lib\\site-packages\\zmq\\sugar\\socket.py\u001b[0m in \u001b[0;36mrecv_multipart\u001b[1;34m(self, flags, copy, track)\u001b[0m\n\u001b[0;32m    466\u001b[0m         \"\"\"\n\u001b[1;32m--> 467\u001b[1;33m         \u001b[0mparts\u001b[0m \u001b[1;33m=\u001b[0m \u001b[1;33m[\u001b[0m\u001b[0mself\u001b[0m\u001b[1;33m.\u001b[0m\u001b[0mrecv\u001b[0m\u001b[1;33m(\u001b[0m\u001b[0mflags\u001b[0m\u001b[1;33m,\u001b[0m \u001b[0mcopy\u001b[0m\u001b[1;33m=\u001b[0m\u001b[0mcopy\u001b[0m\u001b[1;33m,\u001b[0m \u001b[0mtrack\u001b[0m\u001b[1;33m=\u001b[0m\u001b[0mtrack\u001b[0m\u001b[1;33m)\u001b[0m\u001b[1;33m]\u001b[0m\u001b[1;33m\u001b[0m\u001b[0m\n\u001b[0m\u001b[0;32m    468\u001b[0m         \u001b[1;31m# have first part already, only loop while more to receive\u001b[0m\u001b[1;33m\u001b[0m\u001b[1;33m\u001b[0m\u001b[0m\n",
      "\u001b[1;32mzmq\\backend\\cython\\socket.pyx\u001b[0m in \u001b[0;36mzmq.backend.cython.socket.Socket.recv\u001b[1;34m()\u001b[0m\n",
      "\u001b[1;32mzmq\\backend\\cython\\socket.pyx\u001b[0m in \u001b[0;36mzmq.backend.cython.socket.Socket.recv\u001b[1;34m()\u001b[0m\n",
      "\u001b[1;32mzmq\\backend\\cython\\socket.pyx\u001b[0m in \u001b[0;36mzmq.backend.cython.socket._recv_copy\u001b[1;34m()\u001b[0m\n",
      "\u001b[1;32mc:\\users\\samra\\appdata\\local\\programs\\python\\python37\\lib\\site-packages\\zmq\\backend\\cython\\checkrc.pxd\u001b[0m in \u001b[0;36mzmq.backend.cython.checkrc._check_rc\u001b[1;34m()\u001b[0m\n",
      "\u001b[1;31mKeyboardInterrupt\u001b[0m: ",
      "\nDuring handling of the above exception, another exception occurred:\n",
      "\u001b[1;31mKeyboardInterrupt\u001b[0m                         Traceback (most recent call last)",
      "\u001b[1;32m<ipython-input-11-5bd2805f7f5e>\u001b[0m in \u001b[0;36m<module>\u001b[1;34m\u001b[0m\n\u001b[0;32m      9\u001b[0m \u001b[1;33m\u001b[0m\u001b[0m\n\u001b[0;32m     10\u001b[0m     \u001b[0mprint\u001b[0m\u001b[1;33m(\u001b[0m\u001b[1;34m\"Press x to exit loop\"\u001b[0m\u001b[1;33m)\u001b[0m\u001b[1;33m\u001b[0m\u001b[0m\n\u001b[1;32m---> 11\u001b[1;33m     \u001b[0mx\u001b[0m \u001b[1;33m=\u001b[0m \u001b[0minput\u001b[0m\u001b[1;33m(\u001b[0m\u001b[1;33m)\u001b[0m\u001b[1;33m\u001b[0m\u001b[0m\n\u001b[0m\u001b[0;32m     12\u001b[0m     \u001b[1;32mif\u001b[0m \u001b[1;33m(\u001b[0m\u001b[0mx\u001b[0m \u001b[1;33m==\u001b[0m \u001b[1;34m'x'\u001b[0m\u001b[1;33m)\u001b[0m\u001b[1;33m:\u001b[0m\u001b[1;33m\u001b[0m\u001b[0m\n\u001b[0;32m     13\u001b[0m         \u001b[1;32mbreak\u001b[0m\u001b[1;33m\u001b[0m\u001b[0m\n",
      "\u001b[1;32mc:\\users\\samra\\appdata\\local\\programs\\python\\python37\\lib\\site-packages\\ipykernel\\kernelbase.py\u001b[0m in \u001b[0;36mraw_input\u001b[1;34m(self, prompt)\u001b[0m\n\u001b[0;32m    851\u001b[0m             \u001b[0mself\u001b[0m\u001b[1;33m.\u001b[0m\u001b[0m_parent_ident\u001b[0m\u001b[1;33m,\u001b[0m\u001b[1;33m\u001b[0m\u001b[0m\n\u001b[0;32m    852\u001b[0m             \u001b[0mself\u001b[0m\u001b[1;33m.\u001b[0m\u001b[0m_parent_header\u001b[0m\u001b[1;33m,\u001b[0m\u001b[1;33m\u001b[0m\u001b[0m\n\u001b[1;32m--> 853\u001b[1;33m             \u001b[0mpassword\u001b[0m\u001b[1;33m=\u001b[0m\u001b[1;32mFalse\u001b[0m\u001b[1;33m,\u001b[0m\u001b[1;33m\u001b[0m\u001b[0m\n\u001b[0m\u001b[0;32m    854\u001b[0m         )\n\u001b[0;32m    855\u001b[0m \u001b[1;33m\u001b[0m\u001b[0m\n",
      "\u001b[1;32mc:\\users\\samra\\appdata\\local\\programs\\python\\python37\\lib\\site-packages\\ipykernel\\kernelbase.py\u001b[0m in \u001b[0;36m_input_request\u001b[1;34m(self, prompt, ident, parent, password)\u001b[0m\n\u001b[0;32m    881\u001b[0m             \u001b[1;32mexcept\u001b[0m \u001b[0mKeyboardInterrupt\u001b[0m\u001b[1;33m:\u001b[0m\u001b[1;33m\u001b[0m\u001b[0m\n\u001b[0;32m    882\u001b[0m                 \u001b[1;31m# re-raise KeyboardInterrupt, to truncate traceback\u001b[0m\u001b[1;33m\u001b[0m\u001b[1;33m\u001b[0m\u001b[0m\n\u001b[1;32m--> 883\u001b[1;33m                 \u001b[1;32mraise\u001b[0m \u001b[0mKeyboardInterrupt\u001b[0m\u001b[1;33m\u001b[0m\u001b[0m\n\u001b[0m\u001b[0;32m    884\u001b[0m             \u001b[1;32melse\u001b[0m\u001b[1;33m:\u001b[0m\u001b[1;33m\u001b[0m\u001b[0m\n\u001b[0;32m    885\u001b[0m                 \u001b[1;32mbreak\u001b[0m\u001b[1;33m\u001b[0m\u001b[0m\n",
      "\u001b[1;31mKeyboardInterrupt\u001b[0m: "
     ]
    }
   ],
   "source": [
    "for point in intersections:\n",
    "    x = point[0]\n",
    "    y = point[1]\n",
    "    \n",
    "    circle = cv2.circle(img_new, (x,y), radius=2, color=(124,252,0), thickness=2)\n",
    "    \n",
    "    cv2.imshow(\"Cropped image\", circle) \n",
    "    cv2.waitKey(0)\n",
    "    \n",
    "    print(\"Press x to exit loop\")\n",
    "    x = input()\n",
    "    if (x == 'x'):\n",
    "        break"
   ]
  },
  {
   "cell_type": "code",
   "execution_count": 16,
   "metadata": {},
   "outputs": [
    {
     "name": "stdout",
     "output_type": "stream",
     "text": [
      "Press x to exit loop\n",
      "\n",
      "Press x to exit loop\n",
      "\n",
      "Press x to exit loop\n",
      "\n",
      "Press x to exit loop\n",
      "\n",
      "Press x to exit loop\n",
      "\n",
      "Press x to exit loop\n",
      "\n",
      "Press x to exit loop\n",
      "\n",
      "Press x to exit loop\n",
      "\n",
      "Press x to exit loop\n",
      "\n",
      "Press x to exit loop\n",
      "\n",
      "Press x to exit loop\n",
      "\n",
      "Press x to exit loop\n",
      "\n",
      "Press x to exit loop\n",
      "\n",
      "Press x to exit loop\n",
      "\n",
      "Press x to exit loop\n",
      "\n",
      "Press x to exit loop\n",
      "\n",
      "Press x to exit loop\n",
      "\n",
      "Press x to exit loop\n",
      "\n",
      "Press x to exit loop\n",
      "\n",
      "Press x to exit loop\n",
      "\n",
      "Press x to exit loop\n",
      "\n",
      "Press x to exit loop\n",
      "\n",
      "Press x to exit loop\n",
      "\n",
      "Press x to exit loop\n",
      "\n",
      "Press x to exit loop\n",
      "\n",
      "Press x to exit loop\n",
      "\n",
      "Press x to exit loop\n",
      "\n",
      "Press x to exit loop\n",
      "\n",
      "Press x to exit loop\n",
      "\n",
      "Press x to exit loop\n",
      "\n",
      "Press x to exit loop\n",
      "\n",
      "Press x to exit loop\n",
      "\n",
      "Press x to exit loop\n",
      "\n",
      "Press x to exit loop\n",
      "\n",
      "Press x to exit loop\n",
      "\n",
      "Press x to exit loop\n",
      "\n",
      "Press x to exit loop\n",
      "\n",
      "Press x to exit loop\n",
      "\n",
      "Press x to exit loop\n",
      "\n",
      "Press x to exit loop\n",
      "\n",
      "Press x to exit loop\n",
      "\n",
      "Press x to exit loop\n",
      "\n",
      "Press x to exit loop\n",
      "\n",
      "Press x to exit loop\n",
      "\n",
      "Press x to exit loop\n",
      "\n",
      "Press x to exit loop\n",
      "\n",
      "Press x to exit loop\n",
      "\n",
      "Press x to exit loop\n",
      "\n",
      "Press x to exit loop\n",
      "\n",
      "Press x to exit loop\n",
      "\n",
      "Press x to exit loop\n",
      "\n",
      "Press x to exit loop\n",
      "\n",
      "Press x to exit loop\n",
      "\n",
      "Press x to exit loop\n",
      "\n",
      "Press x to exit loop\n",
      "\n",
      "Press x to exit loop\n",
      "\n"
     ]
    }
   ],
   "source": [
    "for square in white_cropped:\n",
    "    x = square[0]\n",
    "    w = square[1]\n",
    "    y = square[2]\n",
    "    h = square[3]\n",
    "    \n",
    "    #crop = thresh_gray[x:x+w, y:y+j]\n",
    "    \n",
    "    box = cv2.rectangle(thresh_gray, (x,y), (x+w, y+h), (124,252,0), 2)\n",
    "    cv2.imshow(\"Cropped image\", box) \n",
    "    cv2.waitKey(0)\n",
    "    \n",
    "    print(\"Press x to exit loop\")\n",
    "    x = input()\n",
    "    if (x == 'x'):\n",
    "        break"
   ]
  },
  {
   "cell_type": "code",
   "execution_count": 48,
   "metadata": {},
   "outputs": [
    {
     "name": "stdout",
     "output_type": "stream",
     "text": [
      "0 35 172 190\n",
      "11213\n"
     ]
    },
    {
     "data": {
      "text/plain": [
       "172"
      ]
     },
     "execution_count": 48,
     "metadata": {},
     "output_type": "execute_result"
    }
   ],
   "source": [
    "\n",
    "x, y, w, h = cv2.boundingRect(points) # create a rectangle around those points\n",
    "#x, y, w, h = x-10, y-10, w+20, h+20 # make the box a little bigger\n",
    "print(x, y, w, h )\n",
    "crop = img_gray[y:y+h, x:x+w] # create a cropped region of the gray image\n",
    "print(len(points))\n",
    "len(img_gray[0])"
   ]
  },
  {
   "cell_type": "code",
   "execution_count": 19,
   "metadata": {},
   "outputs": [],
   "source": [
    "crop = img_gray[81:99,37:55]"
   ]
  },
  {
   "cell_type": "code",
   "execution_count": 20,
   "metadata": {},
   "outputs": [
    {
     "data": {
      "text/plain": [
       "-1"
      ]
     },
     "execution_count": 20,
     "metadata": {},
     "output_type": "execute_result"
    }
   ],
   "source": [
    "# display\n",
    "cv2.imshow(\"Cropped image\", crop) \n",
    "cv2.waitKey(0)"
   ]
  },
  {
   "cell_type": "code",
   "execution_count": 53,
   "metadata": {},
   "outputs": [],
   "source": [
    "# get the thresholded crop\n",
    "retval, thresh_crop = cv2.threshold(crop, thresh=150, maxval=255, type=cv2.THRESH_BINARY)"
   ]
  },
  {
   "cell_type": "code",
   "execution_count": 55,
   "metadata": {},
   "outputs": [
    {
     "data": {
      "text/plain": [
       "-1"
      ]
     },
     "execution_count": 55,
     "metadata": {},
     "output_type": "execute_result"
    }
   ],
   "source": [
    "# display\n",
    "cv2.imshow(\"Cropped and thresholded image\", thresh_gray) \n",
    "cv2.waitKey(0)"
   ]
  }
 ],
 "metadata": {
  "kernelspec": {
   "display_name": "Python 3",
   "language": "python",
   "name": "python3"
  },
  "language_info": {
   "codemirror_mode": {
    "name": "ipython",
    "version": 3
   },
   "file_extension": ".py",
   "mimetype": "text/x-python",
   "name": "python",
   "nbconvert_exporter": "python",
   "pygments_lexer": "ipython3",
   "version": "3.9.2"
  }
 },
 "nbformat": 4,
 "nbformat_minor": 5
}
